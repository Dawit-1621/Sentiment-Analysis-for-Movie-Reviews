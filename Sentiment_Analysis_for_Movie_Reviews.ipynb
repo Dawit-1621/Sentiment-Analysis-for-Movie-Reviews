{
 "cells": [
  {
   "cell_type": "code",
   "execution_count": 1,
   "id": "special-elizabeth",
   "metadata": {
    "colab": {
     "base_uri": "https://localhost:8080/"
    },
    "id": "special-elizabeth",
    "outputId": "53f5a5eb-baf5-4d67-96aa-31e64f363ee9"
   },
   "outputs": [
    {
     "name": "stdout",
     "output_type": "stream",
     "text": [
      "Mounted at /content/drive\n"
     ]
    }
   ],
   "source": [
    "from google.colab import drive\n",
    "drive.mount('/content/drive')"
   ]
  },
  {
   "cell_type": "markdown",
   "id": "afSWXAI85Gct",
   "metadata": {
    "id": "afSWXAI85Gct"
   },
   "source": [
    "## Introduction\n",
    "Sentiment analysis (or opinion mining) is a natural language processing technique used to determine whether data is positive, negative or neutral. Sentiment analysis is often performed on textual data to help businesses monitor brand and product sentiment in customer feedback, and understand customer needs."
   ]
  },
  {
   "cell_type": "markdown",
   "id": "Fw-nI62R5LmZ",
   "metadata": {
    "id": "Fw-nI62R5LmZ"
   },
   "source": [
    "### Importing Libraries\n",
    "The following imports the required libraries:"
   ]
  },
  {
   "cell_type": "markdown",
   "id": "ruYsJPWpTcfr",
   "metadata": {
    "id": "ruYsJPWpTcfr"
   },
   "source": [
    "**Importing Libraries**"
   ]
  },
  {
   "cell_type": "code",
   "execution_count": 2,
   "id": "WXNkVk0gn1aX",
   "metadata": {
    "id": "WXNkVk0gn1aX"
   },
   "outputs": [],
   "source": [
    "import pandas as pd\n",
    "import numpy as np\n",
    "import re\n",
    "import nltk\n",
    "from nltk.corpus import stopwords\n",
    "\n",
    "from numpy import array\n",
    "from keras.preprocessing.text import one_hot\n",
    "from keras.preprocessing.sequence import pad_sequences\n",
    "from keras.models import Sequential\n",
    "from keras.layers.core import Activation, Dropout, Dense\n",
    "from keras.layers import Flatten\n",
    "from keras.layers import GlobalMaxPool1D\n",
    "from keras.layers.embeddings import Embedding\n",
    "from sklearn.model_selection import train_test_split\n",
    "from keras.preprocessing.text import Tokenizer"
   ]
  },
  {
   "cell_type": "markdown",
   "id": "TDVJbMbr5RUX",
   "metadata": {
    "id": "TDVJbMbr5RUX"
   },
   "source": [
    "### Importing the Dataset\n",
    "The dataset that can be downloaded from this Kaggle link (https://www.kaggle.com/lakshmi25npathi/imdb-dataset-of-50k-movie-reviews).<br>\n",
    "If you download the dataset and extract the compressed file, you will see a CSV file. The file contains 50,000 records and two columns: review and sentiment. The review column contains text for the review and the sentiment column contains sentiment for the review. The sentiment column can have two values i.e. `\"positive\" `and `\"negative\"` which makes our problem a binary classification problem."
   ]
  },
  {
   "cell_type": "code",
   "execution_count": 3,
   "id": "se1GnY7rUpaG",
   "metadata": {
    "id": "se1GnY7rUpaG"
   },
   "outputs": [],
   "source": [
    "#Importing the datset\n",
    "movie_reviews = pd.read_csv(\"/content/drive/My Drive/AI_Project/NLP/Sentiment-Analysis-for-Movie-Reviews/IMDB Dataset.csv\")"
   ]
  },
  {
   "cell_type": "markdown",
   "id": "assigned-supervisor",
   "metadata": {},
   "source": [
    "Count the number of fraud and non fraud on the dataset"
   ]
  },
  {
   "cell_type": "code",
   "execution_count": 4,
   "id": "xb7zAK4TN6F0",
   "metadata": {
    "colab": {
     "base_uri": "https://localhost:8080/"
    },
    "id": "xb7zAK4TN6F0",
    "outputId": "1a078560-a70b-4437-91b3-d40e6b984625"
   },
   "outputs": [
    {
     "name": "stdout",
     "output_type": "stream",
     "text": [
      "Number of Positive Sentiment:  25000\n",
      "Number of Negative Sentiment:  25000\n"
     ]
    }
   ],
   "source": [
    "positive_sentiment_count = len(movie_reviews[movie_reviews.sentiment == \"positive\"])  #Count the number of non fraud on the dataset\n",
    "negative_sentiment_count = len(movie_reviews[movie_reviews.sentiment == \"negative\"])   # Count the number of fraud on the dataset\n",
    "print(\"Number of Positive Sentiment: \",positive_sentiment_count)\n",
    "print(\"Number of Negative Sentiment: \", negative_sentiment_count)"
   ]
  },
  {
   "cell_type": "code",
   "execution_count": 5,
   "id": "FZACpTyYVpN8",
   "metadata": {
    "colab": {
     "base_uri": "https://localhost:8080/",
     "height": 204
    },
    "id": "FZACpTyYVpN8",
    "outputId": "84e99872-365f-44db-8037-3533705e9ba5"
   },
   "outputs": [
    {
     "data": {
      "text/html": [
       "<div>\n",
       "<style scoped>\n",
       "    .dataframe tbody tr th:only-of-type {\n",
       "        vertical-align: middle;\n",
       "    }\n",
       "\n",
       "    .dataframe tbody tr th {\n",
       "        vertical-align: top;\n",
       "    }\n",
       "\n",
       "    .dataframe thead th {\n",
       "        text-align: right;\n",
       "    }\n",
       "</style>\n",
       "<table border=\"1\" class=\"dataframe\">\n",
       "  <thead>\n",
       "    <tr style=\"text-align: right;\">\n",
       "      <th></th>\n",
       "      <th>review</th>\n",
       "      <th>sentiment</th>\n",
       "    </tr>\n",
       "  </thead>\n",
       "  <tbody>\n",
       "    <tr>\n",
       "      <th>0</th>\n",
       "      <td>One of the other reviewers has mentioned that ...</td>\n",
       "      <td>positive</td>\n",
       "    </tr>\n",
       "    <tr>\n",
       "      <th>1</th>\n",
       "      <td>A wonderful little production. &lt;br /&gt;&lt;br /&gt;The...</td>\n",
       "      <td>positive</td>\n",
       "    </tr>\n",
       "    <tr>\n",
       "      <th>2</th>\n",
       "      <td>I thought this was a wonderful way to spend ti...</td>\n",
       "      <td>positive</td>\n",
       "    </tr>\n",
       "    <tr>\n",
       "      <th>3</th>\n",
       "      <td>Basically there's a family where a little boy ...</td>\n",
       "      <td>negative</td>\n",
       "    </tr>\n",
       "    <tr>\n",
       "      <th>4</th>\n",
       "      <td>Petter Mattei's \"Love in the Time of Money\" is...</td>\n",
       "      <td>positive</td>\n",
       "    </tr>\n",
       "  </tbody>\n",
       "</table>\n",
       "</div>"
      ],
      "text/plain": [
       "                                              review sentiment\n",
       "0  One of the other reviewers has mentioned that ...  positive\n",
       "1  A wonderful little production. <br /><br />The...  positive\n",
       "2  I thought this was a wonderful way to spend ti...  positive\n",
       "3  Basically there's a family where a little boy ...  negative\n",
       "4  Petter Mattei's \"Love in the Time of Money\" is...  positive"
      ]
     },
     "execution_count": 5,
     "metadata": {
      "tags": []
     },
     "output_type": "execute_result"
    }
   ],
   "source": [
    "#print the first 5 rows of the dataset using the head() method.\n",
    "movie_reviews.head()"
   ]
  },
  {
   "cell_type": "code",
   "execution_count": 6,
   "id": "gyRaDRxhVpIY",
   "metadata": {
    "colab": {
     "base_uri": "https://localhost:8080/",
     "height": 120
    },
    "id": "gyRaDRxhVpIY",
    "outputId": "17271432-5c68-4f73-fea6-0123d1d2007a"
   },
   "outputs": [
    {
     "data": {
      "application/vnd.google.colaboratory.intrinsic+json": {
       "type": "string"
      },
      "text/plain": [
       "\"Basically there's a family where a little boy (Jake) thinks there's a zombie in his closet & his parents are fighting all the time.<br /><br />This movie is slower than a soap opera... and suddenly, Jake decides to become Rambo and kill the zombie.<br /><br />OK, first of all when you're going to make a film you must Decide if its a thriller or a drama! As a drama the movie is watchable. Parents are divorcing & arguing like in real life. And then we have Jake with his closet which totally ruins all the film! I expected to see a BOOGEYMAN similar movie, and instead i watched a drama with some meaningless thriller spots.<br /><br />3 out of 10 just for the well playing parents & descent dialogs. As for the shots with Jake: just ignore them.\""
      ]
     },
     "execution_count": 6,
     "metadata": {
      "tags": []
     },
     "output_type": "execute_result"
    }
   ],
   "source": [
    "#The print result contains punctuations, brackets and a few HTML tags.\n",
    "movie_reviews['review'][3]"
   ]
  },
  {
   "cell_type": "markdown",
   "id": "unauthorized-preserve",
   "metadata": {},
   "source": [
    "The Positive and Negative sentiment distribution in the dataset"
   ]
  },
  {
   "cell_type": "code",
   "execution_count": 7,
   "id": "FoxsdPkMVpFf",
   "metadata": {
    "colab": {
     "base_uri": "https://localhost:8080/",
     "height": 296
    },
    "id": "FoxsdPkMVpFf",
    "outputId": "633808cc-02cc-45a2-bae4-fd3f1e5d5427"
   },
   "outputs": [
    {
     "data": {
      "text/plain": [
       "<matplotlib.axes._subplots.AxesSubplot at 0x7f14938ee610>"
      ]
     },
     "execution_count": 7,
     "metadata": {
      "tags": []
     },
     "output_type": "execute_result"
    },
    {
     "data": {
      "image/png": "[encoded data removed]",
      "text/plain": [
       "<Figure size 432x288 with 1 Axes>"
      ]
     },
     "metadata": {
      "needs_background": "light",
      "tags": []
     },
     "output_type": "display_data"
    }
   ],
   "source": [
    "#The Positive and Negative sentiment distribution in the dataset\n",
    "#The output shows the dataset contains equal number of positive and negative revies\n",
    "import seaborn as sns\n",
    "sns.countplot(x='sentiment', data = movie_reviews)"
   ]
  },
  {
   "cell_type": "markdown",
   "id": "worse-oriental",
   "metadata": {},
   "source": [
    "### Data Preprocessing"
   ]
  },
  {
   "cell_type": "code",
   "execution_count": 8,
   "id": "DvERgBDgVo01",
   "metadata": {
    "id": "DvERgBDgVo01"
   },
   "outputs": [],
   "source": [
    "#Data Preprocessing\n",
    "#we define a function that takes a text string as a parameter and the performs\n",
    "#preprocessing on the string to remove special character and HTML tags from the string\n",
    "def preprocess_text(sen):\n",
    "  #Removing html tags\n",
    "  sentence = remove_tags(sen)\n",
    "\n",
    "  #Remove punctuations and numbers [\\s\\S]*?\n",
    "  sentence = re.sub('[^a-zA-Z]', ' ', sentence)\n",
    "\n",
    "  #Single character removal\n",
    "  sentence = re.sub(r\"\\s+[a-zA-Z]\\s+\", ' ', sentence)\n",
    "\n",
    "  #Removing multiple spaces\n",
    "  sentence = re.sub(r'\\s+', ' ', sentence)\n",
    "\n",
    "  return sentence\n"
   ]
  },
  {
   "cell_type": "markdown",
   "id": "taken-lunch",
   "metadata": {},
   "source": [
    "Remove tag function"
   ]
  },
  {
   "cell_type": "code",
   "execution_count": 9,
   "id": "tefcCNsDYozj",
   "metadata": {
    "id": "tefcCNsDYozj"
   },
   "outputs": [],
   "source": [
    "#Remove tag function\n",
    "TAG_RE = re.compile(r'<[^>]+>')\n",
    "\n",
    "def remove_tags(text):\n",
    "    return TAG_RE.sub('', text)"
   ]
  },
  {
   "cell_type": "markdown",
   "id": "dangerous-england",
   "metadata": {},
   "source": [
    "Preprocess reviews and store them in a new list"
   ]
  },
  {
   "cell_type": "code",
   "execution_count": 10,
   "id": "RV_7pEErYo7i",
   "metadata": {
    "id": "RV_7pEErYo7i"
   },
   "outputs": [],
   "source": [
    "#Preprocess reviews and store them in a new list\n",
    "X = []\n",
    "sentences = list(movie_reviews['review'])\n",
    "for sen in sentences:\n",
    "    X.append(preprocess_text(sen))"
   ]
  },
  {
   "cell_type": "code",
   "execution_count": 11,
   "id": "UN4uIWuYYo-c",
   "metadata": {
    "colab": {
     "base_uri": "https://localhost:8080/",
     "height": 103
    },
    "id": "UN4uIWuYYo-c",
    "outputId": "57852482-4293-4cc0-9145-06c02c7c3302",
    "scrolled": true
   },
   "outputs": [
    {
     "data": {
      "application/vnd.google.colaboratory.intrinsic+json": {
       "type": "string"
      },
      "text/plain": [
       "'Basically there a family where little boy Jake thinks there a zombie in his closet his parents are fighting all the time This movie is slower than soap opera and suddenly Jake decides to become Rambo and kill the zombie OK first of all when you re going to make film you must Decide if its thriller or drama As drama the movie is watchable Parents are divorcing arguing like in real life And then we have Jake with his closet which totally ruins all the film expected to see BOOGEYMAN similar movie and instead watched drama with some meaningless thriller spots out of just for the well playing parents descent dialogs As for the shots with Jake just ignore them '"
      ]
     },
     "execution_count": 11,
     "metadata": {
      "tags": []
     },
     "output_type": "execute_result"
    }
   ],
   "source": [
    "#let's print the fourth review\n",
    "# From the output, HTML tags, punctuations and numbers have been removed\n",
    "X[3]"
   ]
  },
  {
   "cell_type": "markdown",
   "id": "fallen-grill",
   "metadata": {},
   "source": [
    "Lets convert our labels into digits"
   ]
  },
  {
   "cell_type": "code",
   "execution_count": 12,
   "id": "0uK4-nb4acE_",
   "metadata": {
    "id": "0uK4-nb4acE_"
   },
   "outputs": [],
   "source": [
    "#Lets convert our labels into digits. We have two labels in the output \n",
    "# \"Positive\" and \"Negative\"\n",
    "y = movie_reviews['sentiment']\n",
    "y = np.array(list(map(lambda x: 1 if x=='positive' else 0, y)))"
   ]
  },
  {
   "cell_type": "code",
   "execution_count": 13,
   "id": "3RlCNLlfbQeP",
   "metadata": {
    "colab": {
     "base_uri": "https://localhost:8080/"
    },
    "id": "3RlCNLlfbQeP",
    "outputId": "e0363639-2f4f-4d72-9437-ae2de936425b"
   },
   "outputs": [
    {
     "name": "stdout",
     "output_type": "stream",
     "text": [
      "[1 1 1 ... 0 0 0]\n"
     ]
    }
   ],
   "source": [
    "#let's see the result\n",
    "print(y)"
   ]
  },
  {
   "cell_type": "markdown",
   "id": "rocky-sphere",
   "metadata": {},
   "source": [
    "Split the dataset into train and test sets."
   ]
  },
  {
   "cell_type": "code",
   "execution_count": 14,
   "id": "YhyzyYnTbRyk",
   "metadata": {
    "id": "YhyzyYnTbRyk"
   },
   "outputs": [],
   "source": [
    "#Split the dataset into train and test sets.\n",
    "X_train, X_test, y_train, y_test = train_test_split(X, y, test_size = 0.20, random_state = 42)"
   ]
  },
  {
   "cell_type": "markdown",
   "id": "outstanding-drive",
   "metadata": {},
   "source": [
    "create Word-to-index dictionary"
   ]
  },
  {
   "cell_type": "code",
   "execution_count": 15,
   "id": "ntO5PVuB2X99",
   "metadata": {
    "id": "ntO5PVuB2X99"
   },
   "outputs": [],
   "source": [
    "#create Word-to-index dictionary\n",
    "# Tokenizer class from the keras.preprocessing.text\n",
    "tokenizer = Tokenizer(num_words=5000)\n",
    "tokenizer.fit_on_texts(X_train)\n",
    "\n",
    "X_train = tokenizer.texts_to_sequences(X_train)\n",
    "X_test  = tokenizer.texts_to_sequences(X_test)\n"
   ]
  },
  {
   "cell_type": "markdown",
   "id": "dedicated-transfer",
   "metadata": {},
   "source": [
    "Perform padding on both train and test set."
   ]
  },
  {
   "cell_type": "code",
   "execution_count": 16,
   "id": "H8JC8qnB2YA2",
   "metadata": {
    "id": "H8JC8qnB2YA2"
   },
   "outputs": [],
   "source": [
    "#Perform padding on both train and test set.\n",
    "vocab_size = len(tokenizer.word_index) + 1\n",
    "\n",
    "maxlen = 100\n",
    "X_train = pad_sequences(X_train, padding = 'post', maxlen = maxlen)\n",
    "X_test  = pad_sequences(X_test, padding='post', maxlen = maxlen)"
   ]
  },
  {
   "cell_type": "code",
   "execution_count": 17,
   "id": "YGN_JAvC2YDW",
   "metadata": {
    "id": "YGN_JAvC2YDW"
   },
   "outputs": [],
   "source": [
    "# Adding 1 because of reserved 0 index\n",
    "vocab_size = len(tokenizer.word_index) + 1\n",
    "\n",
    "maxlen = 100\n",
    "\n",
    "X_train = pad_sequences(X_train, padding='post', maxlen=maxlen)\n",
    "X_test = pad_sequences(X_test, padding='post', maxlen=maxlen)"
   ]
  },
  {
   "cell_type": "code",
   "execution_count": null,
   "id": "6adKYtKU2YGb",
   "metadata": {
    "id": "6adKYtKU2YGb"
   },
   "outputs": [],
   "source": []
  },
  {
   "cell_type": "code",
   "execution_count": 18,
   "id": "75F5XSmQ2YJY",
   "metadata": {
    "id": "75F5XSmQ2YJY"
   },
   "outputs": [],
   "source": [
    "from numpy import array\n",
    "from numpy import asarray\n",
    "from numpy import zeros\n",
    "\n",
    "embeddings_dictionary = dict()\n",
    "glove_file = open('/content/drive/My Drive/AI_Project/NLP/Sentiment-Analysis-for-Movie-Reviews/glove.6B.100d.txt', encoding=\"utf8\")\n",
    "\n",
    "for line in glove_file:\n",
    "    records = line.split()\n",
    "    word = records[0]\n",
    "    vector_dimensions = asarray(records[1:], dtype='float32')\n",
    "    embeddings_dictionary [word] = vector_dimensions\n",
    "glove_file.close()"
   ]
  },
  {
   "cell_type": "code",
   "execution_count": 19,
   "id": "slkysmRTrJia",
   "metadata": {
    "id": "slkysmRTrJia"
   },
   "outputs": [],
   "source": [
    "embedding_matrix = zeros((vocab_size, 100))\n",
    "for word, index in tokenizer.word_index.items():\n",
    "    embedding_vector = embeddings_dictionary.get(word)\n",
    "    if embedding_vector is not None:\n",
    "        embedding_matrix[index] = embedding_vector"
   ]
  },
  {
   "cell_type": "code",
   "execution_count": 20,
   "id": "cxHngW3arRUt",
   "metadata": {
    "id": "cxHngW3arRUt"
   },
   "outputs": [],
   "source": [
    "#Text Classification with Simple Neural Network\n",
    "model = Sequential()\n",
    "embedding_layer = Embedding(vocab_size, 100, weights=[embedding_matrix], input_length=maxlen , trainable=False)\n",
    "model.add(embedding_layer)\n",
    "\n",
    "model.add(Flatten())\n",
    "model.add(Dense(1, activation='sigmoid'))"
   ]
  },
  {
   "cell_type": "code",
   "execution_count": 21,
   "id": "3Pi4s7-KrcpX",
   "metadata": {
    "colab": {
     "base_uri": "https://localhost:8080/"
    },
    "id": "3Pi4s7-KrcpX",
    "outputId": "a5bd16ec-623b-4b28-f33b-189e94082550"
   },
   "outputs": [
    {
     "name": "stdout",
     "output_type": "stream",
     "text": [
      "Model: \"sequential\"\n",
      "_________________________________________________________________\n",
      "Layer (type)                 Output Shape              Param #   \n",
      "=================================================================\n",
      "embedding (Embedding)        (None, 100, 100)          9254700   \n",
      "_________________________________________________________________\n",
      "flatten (Flatten)            (None, 10000)             0         \n",
      "_________________________________________________________________\n",
      "dense (Dense)                (None, 1)                 10001     \n",
      "=================================================================\n",
      "Total params: 9,264,701\n",
      "Trainable params: 10,001\n",
      "Non-trainable params: 9,254,700\n",
      "_________________________________________________________________\n",
      "None\n"
     ]
    }
   ],
   "source": [
    "model.compile(optimizer='adam', loss='binary_crossentropy', metrics=['acc'])\n",
    "\n",
    "print(model.summary())"
   ]
  },
  {
   "cell_type": "code",
   "execution_count": 41,
   "id": "0Tu-T4bjrjf2",
   "metadata": {
    "colab": {
     "base_uri": "https://localhost:8080/"
    },
    "id": "0Tu-T4bjrjf2",
    "outputId": "2f4b6bba-7515-4819-d1b4-97b2091906e8"
   },
   "outputs": [
    {
     "name": "stdout",
     "output_type": "stream",
     "text": [
      "Epoch 1/20\n",
      "250/250 [==============================] - 1s 4ms/step - loss: 0.3012 - acc: 0.8703 - val_loss: 0.7946 - val_acc: 0.7106\n",
      "Epoch 2/20\n",
      "250/250 [==============================] - 1s 3ms/step - loss: 0.3019 - acc: 0.8693 - val_loss: 0.7968 - val_acc: 0.7146\n",
      "Epoch 3/20\n",
      "250/250 [==============================] - 1s 4ms/step - loss: 0.3024 - acc: 0.8682 - val_loss: 0.7964 - val_acc: 0.7136\n",
      "Epoch 4/20\n",
      "250/250 [==============================] - 1s 3ms/step - loss: 0.3020 - acc: 0.8692 - val_loss: 0.7997 - val_acc: 0.7124\n",
      "Epoch 5/20\n",
      "250/250 [==============================] - 1s 3ms/step - loss: 0.3004 - acc: 0.8700 - val_loss: 0.8096 - val_acc: 0.7089\n",
      "Epoch 6/20\n",
      "250/250 [==============================] - 1s 3ms/step - loss: 0.2974 - acc: 0.8725 - val_loss: 0.8058 - val_acc: 0.7125\n",
      "Epoch 7/20\n",
      "250/250 [==============================] - 1s 4ms/step - loss: 0.3000 - acc: 0.8698 - val_loss: 0.8083 - val_acc: 0.7121\n",
      "Epoch 8/20\n",
      "250/250 [==============================] - 1s 3ms/step - loss: 0.2977 - acc: 0.8718 - val_loss: 0.8238 - val_acc: 0.7100\n",
      "Epoch 9/20\n",
      "250/250 [==============================] - 1s 4ms/step - loss: 0.3000 - acc: 0.8700 - val_loss: 0.8193 - val_acc: 0.7104\n",
      "Epoch 10/20\n",
      "250/250 [==============================] - 1s 4ms/step - loss: 0.3017 - acc: 0.8711 - val_loss: 0.8445 - val_acc: 0.7069\n",
      "Epoch 11/20\n",
      "250/250 [==============================] - 1s 4ms/step - loss: 0.2970 - acc: 0.8715 - val_loss: 0.8454 - val_acc: 0.7082\n",
      "Epoch 12/20\n",
      "250/250 [==============================] - 1s 3ms/step - loss: 0.2984 - acc: 0.8707 - val_loss: 0.8346 - val_acc: 0.7088\n",
      "Epoch 13/20\n",
      "250/250 [==============================] - 1s 3ms/step - loss: 0.2960 - acc: 0.8737 - val_loss: 0.8337 - val_acc: 0.7107\n",
      "Epoch 14/20\n",
      "250/250 [==============================] - 1s 3ms/step - loss: 0.2948 - acc: 0.8727 - val_loss: 0.8652 - val_acc: 0.7084\n",
      "Epoch 15/20\n",
      "250/250 [==============================] - 1s 4ms/step - loss: 0.2954 - acc: 0.8724 - val_loss: 0.8377 - val_acc: 0.7092\n",
      "Epoch 16/20\n",
      "250/250 [==============================] - 1s 3ms/step - loss: 0.2991 - acc: 0.8697 - val_loss: 0.8492 - val_acc: 0.7097\n",
      "Epoch 17/20\n",
      "250/250 [==============================] - 1s 3ms/step - loss: 0.2948 - acc: 0.8748 - val_loss: 0.8538 - val_acc: 0.7072\n",
      "Epoch 18/20\n",
      "250/250 [==============================] - 1s 4ms/step - loss: 0.2947 - acc: 0.8723 - val_loss: 0.8458 - val_acc: 0.7088\n",
      "Epoch 19/20\n",
      "250/250 [==============================] - 1s 3ms/step - loss: 0.2920 - acc: 0.8738 - val_loss: 0.8481 - val_acc: 0.7120\n",
      "Epoch 20/20\n",
      "250/250 [==============================] - 1s 3ms/step - loss: 0.2930 - acc: 0.8737 - val_loss: 0.8488 - val_acc: 0.7119\n"
     ]
    }
   ],
   "source": [
    "history = model.fit(X_train, y_train, batch_size=128, epochs=20, verbose=1, validation_split=0.2)"
   ]
  },
  {
   "cell_type": "code",
   "execution_count": 42,
   "id": "yzT2m5DCrm3c",
   "metadata": {
    "colab": {
     "base_uri": "https://localhost:8080/"
    },
    "id": "yzT2m5DCrm3c",
    "outputId": "c10a7d4d-2f41-49e9-c423-939a3f721fbc"
   },
   "outputs": [
    {
     "name": "stdout",
     "output_type": "stream",
     "text": [
      "313/313 [==============================] - 0s 2ms/step - loss: 0.8509 - acc: 0.7138\n"
     ]
    }
   ],
   "source": [
    "score = model.evaluate(X_test, y_test, verbose=1)"
   ]
  },
  {
   "cell_type": "code",
   "execution_count": 39,
   "id": "MJOlNsQPrm6X",
   "metadata": {
    "colab": {
     "base_uri": "https://localhost:8080/"
    },
    "id": "MJOlNsQPrm6X",
    "outputId": "2f477370-c35c-45b6-d78d-fc353c9b4d2d"
   },
   "outputs": [
    {
     "name": "stdout",
     "output_type": "stream",
     "text": [
      "Test Score: 0.7850999236106873\n",
      "Test Accuracy: 0.7181000113487244\n"
     ]
    }
   ],
   "source": [
    "print(\"Test Score:\", score[0])\n",
    "print(\"Test Accuracy:\", score[1])"
   ]
  },
  {
   "cell_type": "code",
   "execution_count": 43,
   "id": "FIJGFZmNrm9Y",
   "metadata": {
    "colab": {
     "base_uri": "https://localhost:8080/",
     "height": 573
    },
    "id": "FIJGFZmNrm9Y",
    "outputId": "ceac8583-2217-447b-dec5-5aa364489e92"
   },
   "outputs": [
    {
     "data": {
      "image/png": "[encoded data removed]",
      "text/plain": [
       "<Figure size 432x288 with 1 Axes>"
      ]
     },
     "metadata": {
      "needs_background": "light",
      "tags": []
     },
     "output_type": "display_data"
    },
    {
     "data": {
      "image/png": "[encoded data removed]",
      "text/plain": [
       "<Figure size 432x288 with 1 Axes>"
      ]
     },
     "metadata": {
      "needs_background": "light",
      "tags": []
     },
     "output_type": "display_data"
    }
   ],
   "source": [
    "import matplotlib.pyplot as plt\n",
    "plt.plot(history.history['acc'])\n",
    "plt.plot(history.history['val_acc'])\n",
    "\n",
    "plt.title('model accuracy')\n",
    "plt.ylabel('accuracy')\n",
    "plt.xlabel('epoch')\n",
    "plt.legend(['train','test'], loc='upper left')\n",
    "plt.show()\n",
    "\n",
    "plt.plot(history.history['loss'])\n",
    "plt.plot(history.history['val_loss'])\n",
    "\n",
    "plt.title('model loss')\n",
    "plt.ylabel('loss')\n",
    "plt.xlabel('epoch')\n",
    "plt.legend(['train','test'], loc='upper left')\n",
    "plt.show()"
   ]
  },
  {
   "cell_type": "code",
   "execution_count": null,
   "id": "ScccO9NmrnAS",
   "metadata": {
    "id": "ScccO9NmrnAS"
   },
   "outputs": [],
   "source": [
    "#Text Classification with Recurrent Neural Network (LSTM)\n",
    "model = Sequential()\n",
    "embedding_layer = Embedding(vocab_size, 100, weights=[embedding_matrix], input_length=maxlen , trainable=False)\n",
    "model.add(embedding_layer)\n",
    "model.add(LSTM(128))\n",
    "\n",
    "model.add(Dense(1, activation='sigmoid'))\n",
    "model.compile(optimizer='adam', loss='binary_crossentropy', metrics=['acc'])"
   ]
  },
  {
   "cell_type": "code",
   "execution_count": null,
   "id": "CtkPBGwUsUCv",
   "metadata": {
    "id": "CtkPBGwUsUCv"
   },
   "outputs": [],
   "source": [
    "print(model.summary())"
   ]
  },
  {
   "cell_type": "code",
   "execution_count": null,
   "id": "xLewtfCesWca",
   "metadata": {
    "id": "xLewtfCesWca"
   },
   "outputs": [],
   "source": [
    "history = model.fit(X_train, y_train, batch_size=128, epochs=6, verbose=1, validation_split=0.2)\n",
    "\n",
    "score = model.evaluate(X_test, y_test, verbose=1)"
   ]
  },
  {
   "cell_type": "code",
   "execution_count": null,
   "id": "_NRZbcAGsWe7",
   "metadata": {
    "id": "_NRZbcAGsWe7"
   },
   "outputs": [],
   "source": [
    "print(\"Test Score:\", score[0])\n",
    "print(\"Test Accuracy:\", score[1])"
   ]
  },
  {
   "cell_type": "code",
   "execution_count": null,
   "id": "q629QSEhsWh-",
   "metadata": {
    "id": "q629QSEhsWh-"
   },
   "outputs": [],
   "source": [
    "import matplotlib.pyplot as plt\n",
    "\n",
    "plt.plot(history.history['acc'])\n",
    "plt.plot(history.history['val_acc'])\n",
    "\n",
    "plt.title('model accuracy')\n",
    "plt.ylabel('accuracy')\n",
    "plt.xlabel('epoch')\n",
    "plt.legend(['train','test'], loc='upper left')\n",
    "plt.show()\n",
    "\n",
    "plt.plot(history.history['loss'])\n",
    "plt.plot(history.history['val_loss'])\n",
    "\n",
    "plt.title('model loss')\n",
    "plt.ylabel('loss')\n",
    "plt.xlabel('epoch')\n",
    "plt.legend(['train','test'], loc='upper left')\n",
    "plt.show()"
   ]
  },
  {
   "cell_type": "code",
   "execution_count": null,
   "id": "V-FVqOlAsb4h",
   "metadata": {
    "id": "V-FVqOlAsb4h"
   },
   "outputs": [],
   "source": [
    "Making Predictions on Single Instance"
   ]
  },
  {
   "cell_type": "code",
   "execution_count": null,
   "id": "-UuIc7VQsb7H",
   "metadata": {
    "id": "-UuIc7VQsb7H"
   },
   "outputs": [],
   "source": [
    "instance = X[57]\n",
    "print(instance)"
   ]
  },
  {
   "cell_type": "code",
   "execution_count": null,
   "id": "D2VyqQAzsb_F",
   "metadata": {
    "id": "D2VyqQAzsb_F"
   },
   "outputs": [],
   "source": []
  },
  {
   "cell_type": "code",
   "execution_count": null,
   "id": "IXuPvwj-sWkU",
   "metadata": {
    "id": "IXuPvwj-sWkU"
   },
   "outputs": [],
   "source": []
  }
 ],
 "metadata": {
  "colab": {
   "name": "Sentiment_Analysis_for_Movie_Reviews.ipynb",
   "provenance": []
  },
  "kernelspec": {
   "display_name": "Python 3",
   "language": "python",
   "name": "python3"
  },
  "language_info": {
   "codemirror_mode": {
    "name": "ipython",
    "version": 3
   },
   "file_extension": ".py",
   "mimetype": "text/x-python",
   "name": "python",
   "nbconvert_exporter": "python",
   "pygments_lexer": "ipython3",
   "version": "3.7.9"
  }
 },
 "nbformat": 4,
 "nbformat_minor": 5
}
