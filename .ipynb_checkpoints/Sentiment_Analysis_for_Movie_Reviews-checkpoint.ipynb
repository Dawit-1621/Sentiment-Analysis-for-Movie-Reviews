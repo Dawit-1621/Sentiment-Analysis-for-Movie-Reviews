{
 "cells": [
  {
   "cell_type": "code",
   "execution_count": 14,
   "id": "special-elizabeth",
   "metadata": {
    "colab": {
     "base_uri": "https://localhost:8080/"
    },
    "id": "special-elizabeth",
    "outputId": "8cce8090-c599-4e29-f8a6-ede76e387fda"
   },
   "outputs": [
    {
     "name": "stdout",
     "output_type": "stream",
     "text": [
      "Drive already mounted at /content/drive; to attempt to forcibly remount, call drive.mount(\"/content/drive\", force_remount=True).\n"
     ]
    }
   ],
   "source": [
    "from google.colab import drive\n",
    "drive.mount('/content/drive')"
   ]
  },
  {
   "cell_type": "markdown",
   "id": "afSWXAI85Gct",
   "metadata": {
    "id": "afSWXAI85Gct"
   },
   "source": [
    "## Introduction\n",
    "Sentiment analysis (or opinion mining) is a natural language processing technique used to determine whether data is positive, negative or neutral. Sentiment analysis is often performed on textual data to help businesses monitor brand and product sentiment in customer feedback, and understand customer needs."
   ]
  },
  {
   "cell_type": "markdown",
   "id": "Fw-nI62R5LmZ",
   "metadata": {
    "id": "Fw-nI62R5LmZ"
   },
   "source": [
    "### Importing Libraries\n",
    "The following imports the required libraries:"
   ]
  },
  {
   "cell_type": "markdown",
   "id": "ruYsJPWpTcfr",
   "metadata": {
    "id": "ruYsJPWpTcfr"
   },
   "source": [
    "**Importing Libraries**"
   ]
  },
  {
   "cell_type": "code",
   "execution_count": 15,
   "id": "WXNkVk0gn1aX",
   "metadata": {
    "id": "WXNkVk0gn1aX"
   },
   "outputs": [],
   "source": [
    "import pandas as pd\n",
    "import numpy as np\n",
    "import re\n",
    "import nltk\n",
    "from nltk.corpus import stopwords\n",
    "\n",
    "from numpy import array\n",
    "from keras.preprocessing.text import one_hot\n",
    "from keras.preprocessing.sequence import pad_sequences\n",
    "from keras.models import Sequential\n",
    "from keras.layers.core import Activation, Dropout, Dense\n",
    "from keras.layers import Flatten\n",
    "from keras.layers import GlobalMaxPool1D\n",
    "from keras.layers.embeddings import Embedding\n",
    "from sklearn.model_selection import train_test_split\n",
    "from keras.preprocessing.text import Tokenizer"
   ]
  },
  {
   "cell_type": "markdown",
   "id": "TDVJbMbr5RUX",
   "metadata": {
    "id": "TDVJbMbr5RUX"
   },
   "source": [
    "### Importing the Dataset\n",
    "The dataset that can be downloaded from this Kaggle link (https://www.kaggle.com/lakshmi25npathi/imdb-dataset-of-50k-movie-reviews).<br>\n",
    "If you download the dataset and extract the compressed file, you will see a CSV file. The file contains 50,000 records and two columns: review and sentiment. The review column contains text for the review and the sentiment column contains sentiment for the review. The sentiment column can have two values i.e. `\"positive\" `and `\"negative\"` which makes our problem a binary classification problem."
   ]
  },
  {
   "cell_type": "code",
   "execution_count": 16,
   "id": "se1GnY7rUpaG",
   "metadata": {
    "id": "se1GnY7rUpaG"
   },
   "outputs": [],
   "source": [
    "#Importing the datset\n",
    "movie_reviews = pd.read_csv(\"/content/drive/My Drive/AI_Project/NLP/Sentiment-Analysis-for-Movie-Reviews/IMDB Dataset.csv\")"
   ]
  },
  {
   "cell_type": "code",
   "execution_count": 17,
   "id": "xb7zAK4TN6F0",
   "metadata": {
    "colab": {
     "base_uri": "https://localhost:8080/"
    },
    "id": "xb7zAK4TN6F0",
    "outputId": "738568f9-c23a-4562-940c-0aed4ed10033"
   },
   "outputs": [
    {
     "name": "stdout",
     "output_type": "stream",
     "text": [
      "Number of Positive Sentiment:  25000\n",
      "Number of Negative Sentiment:  25000\n"
     ]
    }
   ],
   "source": [
    "positive_sentiment_count = len(movie_reviews[movie_reviews.sentiment == \"positive\"])  #Count the number of non fraud on the dataset\n",
    "negative_sentiment_count = len(movie_reviews[movie_reviews.sentiment == \"negative\"])   # Count the number of fraud on the dataset\n",
    "print(\"Number of Positive Sentiment: \",positive_sentiment_count)\n",
    "print(\"Number of Negative Sentiment: \", negative_sentiment_count)"
   ]
  },
  {
   "cell_type": "code",
   "execution_count": 19,
   "id": "FZACpTyYVpN8",
   "metadata": {
    "colab": {
     "base_uri": "https://localhost:8080/",
     "height": 204
    },
    "id": "FZACpTyYVpN8",
    "outputId": "db074d2d-2d46-44bb-e909-2c828907cf8e"
   },
   "outputs": [
    {
     "data": {
      "text/html": [
       "<div>\n",
       "<style scoped>\n",
       "    .dataframe tbody tr th:only-of-type {\n",
       "        vertical-align: middle;\n",
       "    }\n",
       "\n",
       "    .dataframe tbody tr th {\n",
       "        vertical-align: top;\n",
       "    }\n",
       "\n",
       "    .dataframe thead th {\n",
       "        text-align: right;\n",
       "    }\n",
       "</style>\n",
       "<table border=\"1\" class=\"dataframe\">\n",
       "  <thead>\n",
       "    <tr style=\"text-align: right;\">\n",
       "      <th></th>\n",
       "      <th>review</th>\n",
       "      <th>sentiment</th>\n",
       "    </tr>\n",
       "  </thead>\n",
       "  <tbody>\n",
       "    <tr>\n",
       "      <th>0</th>\n",
       "      <td>One of the other reviewers has mentioned that ...</td>\n",
       "      <td>positive</td>\n",
       "    </tr>\n",
       "    <tr>\n",
       "      <th>1</th>\n",
       "      <td>A wonderful little production. &lt;br /&gt;&lt;br /&gt;The...</td>\n",
       "      <td>positive</td>\n",
       "    </tr>\n",
       "    <tr>\n",
       "      <th>2</th>\n",
       "      <td>I thought this was a wonderful way to spend ti...</td>\n",
       "      <td>positive</td>\n",
       "    </tr>\n",
       "    <tr>\n",
       "      <th>3</th>\n",
       "      <td>Basically there's a family where a little boy ...</td>\n",
       "      <td>negative</td>\n",
       "    </tr>\n",
       "    <tr>\n",
       "      <th>4</th>\n",
       "      <td>Petter Mattei's \"Love in the Time of Money\" is...</td>\n",
       "      <td>positive</td>\n",
       "    </tr>\n",
       "  </tbody>\n",
       "</table>\n",
       "</div>"
      ],
      "text/plain": [
       "                                              review sentiment\n",
       "0  One of the other reviewers has mentioned that ...  positive\n",
       "1  A wonderful little production. <br /><br />The...  positive\n",
       "2  I thought this was a wonderful way to spend ti...  positive\n",
       "3  Basically there's a family where a little boy ...  negative\n",
       "4  Petter Mattei's \"Love in the Time of Money\" is...  positive"
      ]
     },
     "execution_count": 19,
     "metadata": {
      "tags": []
     },
     "output_type": "execute_result"
    }
   ],
   "source": [
    "#print the first 5 rows of the dataset using the head() method.\n",
    "movie_reviews.head()"
   ]
  },
  {
   "cell_type": "code",
   "execution_count": 20,
   "id": "gyRaDRxhVpIY",
   "metadata": {
    "colab": {
     "base_uri": "https://localhost:8080/",
     "height": 120
    },
    "id": "gyRaDRxhVpIY",
    "outputId": "5d5467a7-9da3-408b-cd99-9ab9820bf6e4"
   },
   "outputs": [
    {
     "data": {
      "application/vnd.google.colaboratory.intrinsic+json": {
       "type": "string"
      },
      "text/plain": [
       "\"Basically there's a family where a little boy (Jake) thinks there's a zombie in his closet & his parents are fighting all the time.<br /><br />This movie is slower than a soap opera... and suddenly, Jake decides to become Rambo and kill the zombie.<br /><br />OK, first of all when you're going to make a film you must Decide if its a thriller or a drama! As a drama the movie is watchable. Parents are divorcing & arguing like in real life. And then we have Jake with his closet which totally ruins all the film! I expected to see a BOOGEYMAN similar movie, and instead i watched a drama with some meaningless thriller spots.<br /><br />3 out of 10 just for the well playing parents & descent dialogs. As for the shots with Jake: just ignore them.\""
      ]
     },
     "execution_count": 20,
     "metadata": {
      "tags": []
     },
     "output_type": "execute_result"
    }
   ],
   "source": [
    "#The print result contains punctuations, brackets and a few HTML tags.\n",
    "movie_reviews['review'][3]"
   ]
  },
  {
   "cell_type": "code",
   "execution_count": 21,
   "id": "FoxsdPkMVpFf",
   "metadata": {
    "colab": {
     "base_uri": "https://localhost:8080/",
     "height": 296
    },
    "id": "FoxsdPkMVpFf",
    "outputId": "0a18f61b-d9de-4ca0-b904-9bac24368355"
   },
   "outputs": [
    {
     "data": {
      "text/plain": [
       "<matplotlib.axes._subplots.AxesSubplot at 0x7f8d677894d0>"
      ]
     },
     "execution_count": 21,
     "metadata": {
      "tags": []
     },
     "output_type": "execute_result"
    },
    {
     "data": {
      "image/png": "[encoded data removed]",
      "text/plain": [
       "<Figure size 432x288 with 1 Axes>"
      ]
     },
     "metadata": {
      "needs_background": "light",
      "tags": []
     },
     "output_type": "display_data"
    }
   ],
   "source": [
    "#The Positive and Negative sentiment distribution in the dataset\n",
    "#The output shows the dataset contains equal number of positive and negative revies\n",
    "import seaborn as sns\n",
    "sns.countplot(x='sentiment', data = movie_reviews)"
   ]
  },
  {
   "cell_type": "markdown",
   "id": "tender-stewart",
   "metadata": {},
   "source": [
    "## Data Preprocessing\n",
    "The dataset contained punctuations and HTML tags. In this section we will define a function that takes a text string as a parameter and then performs preprocessing on the string to remove special characters and HTML tags from the string. Finally, the string is returned to the calling function."
   ]
  },
  {
   "cell_type": "code",
   "execution_count": 22,
   "id": "DvERgBDgVo01",
   "metadata": {
    "id": "DvERgBDgVo01"
   },
   "outputs": [],
   "source": [
    "#Data Preprocessing\n",
    "#we define a function that takes a text string as a parameter and the performs\n",
    "#preprocessing on the string to remove special character and HTML tags from the string\n",
    "def preprocess_text(sen):\n",
    "    #Removing html tags\n",
    "    sentence = remove_tags(sen)\n",
    "\n",
    "    #Remove punctuations and numbers [\\s\\S]*?\n",
    "    sentence = re.sub('[^a-zA-Z]', ' ', sentence)\n",
    "\n",
    "    #Single character removal\n",
    "    sentence = re.sub(r\"\\s+[a-zA-Z]\\s+\", ' ', sentence)\n",
    "\n",
    "    #Removing multiple spaces\n",
    "    sentence = re.sub(r'\\s+', ' ', sentence)\n",
    "\n",
    "    return sentence\n"
   ]
  },
  {
   "cell_type": "code",
   "execution_count": 23,
   "id": "tefcCNsDYozj",
   "metadata": {
    "id": "tefcCNsDYozj"
   },
   "outputs": [],
   "source": [
    "#Remove tag function\n",
    "TAG_RE = re.compile(r'<[^>]+>')\n",
    "\n",
    "def remove_tags(text):\n",
    "    return TAG_RE.sub('', text)"
   ]
  },
  {
   "cell_type": "markdown",
   "id": "characteristic-module",
   "metadata": {},
   "source": [
    "In the preprocess_text() method the first step is to remove the HTML tags. To remove the HTML tags, remove_tags() function has been defined. The remove_tags function simply replaces anything between opening and closing <> with an empty space."
   ]
  },
  {
   "cell_type": "code",
   "execution_count": 24,
   "id": "RV_7pEErYo7i",
   "metadata": {
    "id": "RV_7pEErYo7i"
   },
   "outputs": [],
   "source": [
    "#Preprocess reviews and store them in a new list\n",
    "X = []\n",
    "sentences = list(movie_reviews['review'])\n",
    "for sen in sentences:\n",
    "    X.append(preprocess_text(sen))"
   ]
  },
  {
   "cell_type": "code",
   "execution_count": 25,
   "id": "UN4uIWuYYo-c",
   "metadata": {
    "colab": {
     "base_uri": "https://localhost:8080/",
     "height": 103
    },
    "id": "UN4uIWuYYo-c",
    "outputId": "d5068d2b-e69a-4db5-a411-6e7562a94c76",
    "scrolled": true
   },
   "outputs": [
    {
     "data": {
      "application/vnd.google.colaboratory.intrinsic+json": {
       "type": "string"
      },
      "text/plain": [
       "'Basically there a family where little boy Jake thinks there a zombie in his closet his parents are fighting all the time This movie is slower than soap opera and suddenly Jake decides to become Rambo and kill the zombie OK first of all when you re going to make film you must Decide if its thriller or drama As drama the movie is watchable Parents are divorcing arguing like in real life And then we have Jake with his closet which totally ruins all the film expected to see BOOGEYMAN similar movie and instead watched drama with some meaningless thriller spots out of just for the well playing parents descent dialogs As for the shots with Jake just ignore them '"
      ]
     },
     "execution_count": 25,
     "metadata": {
      "tags": []
     },
     "output_type": "execute_result"
    }
   ],
   "source": [
    "#let's print the fourth review\n",
    "# From the output, HTML tags, punctuations and numbers have been removed\n",
    "X[3]"
   ]
  },
  {
   "cell_type": "markdown",
   "id": "instrumental-chorus",
   "metadata": {},
   "source": [
    "we need to convert our labels into digits. Since we only have two labels in the output i.e. \"positive\" and \"negative\". We can simply convert them into integers by replacing \"positive\" with digit 1 and negative with digit 0 as shown below:"
   ]
  },
  {
   "cell_type": "code",
   "execution_count": 26,
   "id": "0uK4-nb4acE_",
   "metadata": {
    "id": "0uK4-nb4acE_"
   },
   "outputs": [],
   "source": [
    "#Lets convert our labels into digits. We have two labels in the output \n",
    "# \"Positive\" and \"Negative\"\n",
    "y = movie_reviews['sentiment']\n",
    "y = np.array(list(map(lambda x: 1 if x=='positive' else 0, y)))"
   ]
  },
  {
   "cell_type": "code",
   "execution_count": 27,
   "id": "3RlCNLlfbQeP",
   "metadata": {
    "colab": {
     "base_uri": "https://localhost:8080/"
    },
    "id": "3RlCNLlfbQeP",
    "outputId": "d8a5b456-08bb-4a4d-f627-5cd81c40e815",
    "scrolled": true
   },
   "outputs": [
    {
     "name": "stdout",
     "output_type": "stream",
     "text": [
      "[1 1 1 ... 0 0 0]\n"
     ]
    }
   ],
   "source": [
    "#let's see the result\n",
    "print(y)"
   ]
  },
  {
   "cell_type": "markdown",
   "id": "bound-iraqi",
   "metadata": {},
   "source": [
    "we need to divide our dataset into train and test sets. The train set will be used to train our deep learning models while the test set will be used to evaluate how well our model performs."
   ]
  },
  {
   "cell_type": "code",
   "execution_count": 29,
   "id": "YhyzyYnTbRyk",
   "metadata": {
    "id": "YhyzyYnTbRyk"
   },
   "outputs": [],
   "source": [
    "#Split the dataset into train and test sets.\n",
    "X_train, X_test, y_train, y_test = train_test_split(X, y, test_size = 0.20, random_state = 42)"
   ]
  },
  {
   "cell_type": "markdown",
   "id": "valuable-vegetation",
   "metadata": {},
   "source": [
    "## Preparing the Embedding Layer\n",
    "As a first step, we will use the Tokenizer class from the keras.preprocessing.text module to create a word-to-index dictionary. In the word-to-index dictionary, each word in the corpus is used as a key, while a corresponding unique index is used as the value for the key. Execute the following script:"
   ]
  },
  {
   "cell_type": "code",
   "execution_count": 30,
   "id": "ntO5PVuB2X99",
   "metadata": {
    "id": "ntO5PVuB2X99"
   },
   "outputs": [],
   "source": [
    "#create Word-to-index dictionary\n",
    "# Tokenizer class from the keras.preprocessing.text\n",
    "tokenizer = Tokenizer(num_words=5000)\n",
    "tokenizer.fit_on_texts(X_train)\n",
    "\n",
    "X_train = tokenizer.texts_to_sequences(X_train)\n",
    "X_test  = tokenizer.texts_to_sequences(X_test)\n"
   ]
  },
  {
   "cell_type": "code",
   "execution_count": 32,
   "id": "H8JC8qnB2YA2",
   "metadata": {
    "id": "H8JC8qnB2YA2"
   },
   "outputs": [],
   "source": [
    "#Perform padding on both train and test set.\n",
    "vocab_size = len(tokenizer.word_index) + 1\n",
    "\n",
    "maxlen = 100\n",
    "X_train = pad_sequences(X_train, padding = 'post', maxlen = maxlen)\n",
    "X_test  = pad_sequences(X_test, padding='post', maxlen = maxlen)"
   ]
  },
  {
   "cell_type": "code",
   "execution_count": null,
   "id": "YGN_JAvC2YDW",
   "metadata": {
    "id": "YGN_JAvC2YDW"
   },
   "outputs": [],
   "source": []
  },
  {
   "cell_type": "code",
   "execution_count": null,
   "id": "6adKYtKU2YGb",
   "metadata": {
    "id": "6adKYtKU2YGb"
   },
   "outputs": [],
   "source": []
  },
  {
   "cell_type": "code",
   "execution_count": null,
   "id": "75F5XSmQ2YJY",
   "metadata": {
    "id": "75F5XSmQ2YJY"
   },
   "outputs": [],
   "source": []
  }
 ],
 "metadata": {
  "colab": {
   "name": "Sentiment_Analysis_for_Movie_Reviews.ipynb",
   "provenance": []
  },
  "kernelspec": {
   "display_name": "Python 3",
   "language": "python",
   "name": "python3"
  },
  "language_info": {
   "codemirror_mode": {
    "name": "ipython",
    "version": 3
   },
   "file_extension": ".py",
   "mimetype": "text/x-python",
   "name": "python",
   "nbconvert_exporter": "python",
   "pygments_lexer": "ipython3",
   "version": "3.7.9"
  }
 },
 "nbformat": 4,
 "nbformat_minor": 5
}
